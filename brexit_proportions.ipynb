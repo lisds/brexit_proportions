{
 "cells": [
  {
   "cell_type": "markdown",
   "id": "72af345a",
   "metadata": {},
   "source": [
    "# Brexit proportions"
   ]
  },
  {
   "cell_type": "markdown",
   "id": "d1a3b560",
   "metadata": {},
   "source": [
    "## Preliminaries"
   ]
  },
  {
   "cell_type": "code",
   "execution_count": null,
   "id": "af933a68",
   "metadata": {},
   "outputs": [],
   "source": [
    "# Don't change this cell; just run it.\n",
    "import numpy as np  # The array library.\n",
    "\n",
    "# The random number generator\n",
    "rng = np.random.default_rng()\n",
    "\n",
    "# Plotting\n",
    "import matplotlib.pyplot as plt\n",
    "\n",
    "# Fancy plots\n",
    "plt.style.use('fivethirtyeight')\n",
    "\n",
    "# The OKpy testing system.\n",
    "from client.api.notebook import Notebook\n",
    "ok = Notebook('brexit_proportions.ok')"
   ]
  },
  {
   "cell_type": "markdown",
   "id": "937ad4f4",
   "metadata": {},
   "source": [
    "## The survey company makes its case\n",
    "\n",
    "Remember the [Brexit referendum](https://lisds.github.io/textbook/permutation/population_permutation)?\n",
    "\n",
    "In that page, we found that the survey company working for Hansard ended up\n",
    "with 774 respondents who said they voted Remain, and 541 who said they voted\n",
    "Leave.  In terms of proportions of Remain voters in the survey, that is:"
   ]
  },
  {
   "cell_type": "code",
   "execution_count": null,
   "id": "33d79f98",
   "metadata": {},
   "outputs": [],
   "source": [
    "survey_n_remain = 774\n",
    "survey_n_leave = 541\n",
    "survey_n_total = survey_n_remain + survey_n_leave\n",
    "survey_prop_remain = survey_n_remain / survey_n_total\n",
    "survey_prop_remain"
   ]
  },
  {
   "cell_type": "markdown",
   "id": "9b7f3137",
   "metadata": {},
   "source": [
    "It is odd that the survey company found more Remain than Leave voters, given\n",
    "that the [final UK-wide\n",
    "result](https://www.electoralcommission.org.uk/who-we-are-and-what-we-do/elections-and-referendums/past-elections-and-referendums/eu-referendum/results-and-turnout-eu-referendum)\n",
    "of the referendum was 16,141,241 voting Remain and 17,410,742 voting Leave.\n",
    "This gives a final UK-wide proportion of remain votes, to all votes cast,\n",
    "of:"
   ]
  },
  {
   "cell_type": "code",
   "execution_count": null,
   "id": "45129703",
   "metadata": {},
   "outputs": [],
   "source": [
    "uk_n_remain = 16141241\n",
    "uk_n_leave = 17410742\n",
    "uk_n_total = uk_n_remain + uk_n_leave\n",
    "uk_prop_remain = uk_n_remain / uk_n_total\n",
    "uk_prop_remain"
   ]
  },
  {
   "cell_type": "markdown",
   "id": "7dc752f4",
   "metadata": {},
   "source": [
    "Let's say you are Hansard, and the survey company has given you the data.   You tell them:\n",
    "\n",
    "> I'm worried that your survey may be not be representative of the voting\n",
    "> population, because your survey has 58.9% Remain voters, but the UK had 48.1%\n",
    "> of Remain voters.\n",
    "\n",
    "And they reply:\n",
    "\n",
    "> Oh, that's just sampling error.\n",
    "\n",
    "Explain what the survey company means, when they say \"that's just\n",
    "sampling error\"."
   ]
  },
  {
   "cell_type": "markdown",
   "id": "51c3ba86",
   "metadata": {
    "manual_grade": true,
    "manual_problem_id": "sampling_error"
   },
   "source": [
    "*Write your answer here, replacing this text.*"
   ]
  },
  {
   "cell_type": "markdown",
   "id": "d4b84d00",
   "metadata": {},
   "source": [
    "## Reply to the survey company\n",
    "\n",
    "Now you know about sampling error, you can reply to the survey company.\n",
    "\n",
    "We can reply by following the recipe in the [inference page](https://lisds.github.io/textbook/iteration/inference).\n",
    "\n",
    "Here are the steps from that page.\n",
    "\n",
    "* find the **data**.\n",
    "* Calculate some **measure of interest** from the data.\n",
    "* Make a simple (null-world) model of the world to offer as an explanation of\n",
    "  the data.\n",
    "* **Simulate the data** many times using the null-world.\n",
    "* For each simulation **calculate the measure of interest**.  Call these the\n",
    "  **simulated measures**.\n",
    "* Use the **simulated measures** to build up the **sampling distribution**.\n",
    "* Compare the **observed measure** to the **sampling distribution**, to see\n",
    "  whether it represents a rare or common event, given the model.\n",
    "\n",
    "The **data** is — in the survey sample, there were 774 Remain voters and 541\n",
    "Leave voters.  In the UK population, 48.1% voted Remain — the value of\n",
    "`uk_prop_remain` above.\n",
    "\n",
    "Let's say our **measure of interest** is the proportion of Remain voters in the\n",
    "survey — `survey_prop_remain` above.\n",
    "\n",
    "Now, *describe* (in words) your null-world simple model.  Consider looking\n",
    "again at the inference page linked above, if you need more information."
   ]
  },
  {
   "cell_type": "markdown",
   "id": "5f1075d0",
   "metadata": {
    "manual_grade": true,
    "manual_problem_id": "null_world"
   },
   "source": [
    "*Write your answer here, replacing this text.*"
   ]
  },
  {
   "cell_type": "markdown",
   "id": "ec62c4e5",
   "metadata": {},
   "source": [
    "The next step is to simulate one trial in this world.  Here is a cell for you\n",
    "to do that.  Set `simulated_prop_remain` to be a proportion of Remain voters from that simulated world."
   ]
  },
  {
   "cell_type": "code",
   "execution_count": null,
   "id": "95a5b7ec",
   "metadata": {},
   "outputs": [],
   "source": [
    "voters = rng.choice(..., size=survey_n_total)\n",
    "simulated_prop_remain = ...\n",
    "# Show the result\n",
    "simulated_prop_remain"
   ]
  },
  {
   "cell_type": "code",
   "execution_count": null,
   "id": "2feffcf4",
   "metadata": {},
   "outputs": [],
   "source": [
    "_ = ok.grade('q_simulated_prop_remain')"
   ]
  },
  {
   "cell_type": "markdown",
   "id": "af17b356",
   "metadata": {},
   "source": [
    "Now you have you worked out how to get your measure from one trial, run 10000\n",
    "trials, repeating this procedure, and storing the result in\n",
    "`simulated_props`."
   ]
  },
  {
   "cell_type": "code",
   "execution_count": null,
   "id": "35406106",
   "metadata": {},
   "outputs": [],
   "source": [
    "simulated_props = np.zeros(10000)\n",
    "\n",
    "for ...\n",
    "    ...\n",
    "    ...\n",
    "# Show the first 10 results of the simulation\n",
    "simulated_props[:10]"
   ]
  },
  {
   "cell_type": "code",
   "execution_count": null,
   "id": "0711b5b1",
   "metadata": {},
   "outputs": [],
   "source": [
    "_ = ok.grade('q_simulated_props')"
   ]
  },
  {
   "cell_type": "markdown",
   "id": "942cec96",
   "metadata": {},
   "source": [
    "Finally, calculate the estimated p value (proportion) of simulated proportions which were greater than or equal to the observed proportion in the survey."
   ]
  },
  {
   "cell_type": "code",
   "execution_count": null,
   "id": "d97fa3ae",
   "metadata": {},
   "outputs": [],
   "source": [
    "estimated_p = ...\n",
    "# Show the result\n",
    "estimated_p"
   ]
  },
  {
   "cell_type": "code",
   "execution_count": null,
   "id": "778a0922",
   "metadata": {},
   "outputs": [],
   "source": [
    "_ = ok.grade('q_estimated_p')"
   ]
  },
  {
   "cell_type": "markdown",
   "id": "acaa83bf",
   "metadata": {},
   "source": [
    "Now the data is in, give a convincing reply to the survey company, as to whether the difference in proportions is really explicable by sampling error."
   ]
  },
  {
   "cell_type": "markdown",
   "id": "cd8ca2c0",
   "metadata": {
    "lines_to_next_cell": 2,
    "manual_grade": true,
    "manual_problem_id": "reply_to_survey"
   },
   "source": [
    "*Write your answer here, replacing this text.*"
   ]
  },
  {
   "cell_type": "markdown",
   "id": "40fef4b8",
   "metadata": {},
   "source": [
    "## Done.\n",
    "\n",
    "Congratulations, you're done with the assignment!  Be sure to:\n",
    "\n",
    "- **run all the tests** (the next cell has a shortcut for that).\n",
    "- **Save and Checkpoint** from the `File` menu."
   ]
  },
  {
   "cell_type": "code",
   "execution_count": null,
   "id": "94aa4c5e",
   "metadata": {},
   "outputs": [],
   "source": [
    "# For your convenience, you can run this cell to run all the tests at once!\n",
    "import os\n",
    "_ = [ok.grade(q[:-3]) for q in os.listdir(\"tests\") if q.startswith('q')]"
   ]
  }
 ],
 "metadata": {
  "jupytext": {
   "cell_metadata_json": true,
   "notebook_metadata_filter": "all,-language_info",
   "split_at_heading": true,
   "text_representation": {
    "extension": ".Rmd",
    "format_name": "rmarkdown",
    "format_version": "1.2",
    "jupytext_version": "1.14.1"
   }
  },
  "kernelspec": {
   "display_name": "Python 3 (ipykernel)",
   "language": "python",
   "name": "python3"
  }
 },
 "nbformat": 4,
 "nbformat_minor": 5
}
