{
 "cells": [
  {
   "cell_type": "markdown",
   "id": "e54c1175",
   "metadata": {},
   "source": [
    "# Brexit proportions"
   ]
  },
  {
   "cell_type": "markdown",
   "id": "6a1c1bf7",
   "metadata": {},
   "source": [
    "## Preliminaries"
   ]
  },
  {
   "cell_type": "code",
   "execution_count": 1,
   "id": "26af419f",
   "metadata": {
    "execution": {
     "iopub.execute_input": "2022-12-14T18:21:50.346121Z",
     "iopub.status.busy": "2022-12-14T18:21:50.345680Z",
     "iopub.status.idle": "2022-12-14T18:21:50.760233Z",
     "shell.execute_reply": "2022-12-14T18:21:50.759874Z"
    }
   },
   "outputs": [],
   "source": [
    "# Don't change this cell; just run it.\n",
    "import numpy as np  # The array library.\n",
    "\n",
    "# The random number generator\n",
    "rng = np.random.default_rng()\n",
    "\n",
    "# Plotting\n",
    "import matplotlib.pyplot as plt\n",
    "\n",
    "# Fancy plots\n",
    "plt.style.use('fivethirtyeight')\n",
    "\n",
    "# The OKpy testing system.\n",
    "from client.api.notebook import Notebook\n",
    "ok = Notebook('brexit_proportions.ok')"
   ]
  },
  {
   "cell_type": "markdown",
   "id": "eb0b35a8",
   "metadata": {},
   "source": [
    "## The survey company makes its case\n",
    "\n",
    "Remember the [Brexit referendum](https://lisds.github.io/textbook/permutation/population_permutation)?\n",
    "\n",
    "In that page, we found that the survey company working for Hansard ended up\n",
    "with 774 respondents who said they voted Remain, and 541 who said they voted\n",
    "Leave.  In terms of proportions of Remain voters in the survey, that is:"
   ]
  },
  {
   "cell_type": "code",
   "execution_count": 2,
   "id": "f7003420",
   "metadata": {
    "execution": {
     "iopub.execute_input": "2022-12-14T18:21:50.762468Z",
     "iopub.status.busy": "2022-12-14T18:21:50.762271Z",
     "iopub.status.idle": "2022-12-14T18:21:50.768104Z",
     "shell.execute_reply": "2022-12-14T18:21:50.767762Z"
    }
   },
   "outputs": [],
   "source": [
    "survey_n_remain = 774\n",
    "survey_n_leave = 541\n",
    "survey_n_total = survey_n_remain + survey_n_leave\n",
    "survey_prop_remain = survey_n_remain / survey_n_total\n",
    "survey_prop_remain"
   ]
  },
  {
   "cell_type": "markdown",
   "id": "8383e152",
   "metadata": {},
   "source": [
    "It is odd that the survey company found more Remain than Leave voters, given\n",
    "that the [final UK-wide\n",
    "result](https://www.electoralcommission.org.uk/who-we-are-and-what-we-do/elections-and-referendums/past-elections-and-referendums/eu-referendum/results-and-turnout-eu-referendum)\n",
    "of the referendum was 16,141,241 voting Remain and 17,410,742 voting Leave.\n",
    "This gives a final UK-wide proportion of remain votes, to all votes cast,\n",
    "of:"
   ]
  },
  {
   "cell_type": "code",
   "execution_count": 3,
   "id": "4f40d41d",
   "metadata": {
    "execution": {
     "iopub.execute_input": "2022-12-14T18:21:50.770123Z",
     "iopub.status.busy": "2022-12-14T18:21:50.769976Z",
     "iopub.status.idle": "2022-12-14T18:21:50.772687Z",
     "shell.execute_reply": "2022-12-14T18:21:50.772349Z"
    }
   },
   "outputs": [],
   "source": [
    "uk_n_remain = 16141241\n",
    "uk_n_leave = 17410742\n",
    "uk_n_total = uk_n_remain + uk_n_leave\n",
    "uk_prop_remain = uk_n_remain / uk_n_total\n",
    "uk_prop_remain"
   ]
  },
  {
   "cell_type": "markdown",
   "id": "fc5fcbd1",
   "metadata": {},
   "source": [
    "Let's say you are Hansard, and the survey company has given you the data.   You tell them:\n",
    "\n",
    "> I'm worried that your survey may be not be representative of the voting\n",
    "> population, because your survey has 58.9% Remain voters, but the UK had 48.1%\n",
    "> of Remain voters.\n",
    "\n",
    "And they reply:\n",
    "\n",
    "> Oh, that's just sampling error.\n",
    "\n",
    "Explain what the survey company means, when they say \"that's just\n",
    "sampling error\"."
   ]
  },
  {
   "cell_type": "markdown",
   "id": "2c5266fc",
   "metadata": {
    "manual_grade": true,
    "manual_problem_id": "sampling_error"
   },
   "source": [
    "*Write your answer here, replacing this text.*"
   ]
  },
  {
   "cell_type": "markdown",
   "id": "afc25605",
   "metadata": {},
   "source": [
    "## Reply to the survey company\n",
    "\n",
    "Now you know about sampling error, you can reply to the survey company.\n",
    "\n",
    "We can reply by following the recipe in the [inference page](https://lisds.github.io/textbook/iteration/inference).\n",
    "\n",
    "Here are the steps from that page.\n",
    "\n",
    "* find the **data**.\n",
    "* Calculate some **measure of interest** from the data.\n",
    "* Make a simple (null-world) model of the world to offer as an explanation of\n",
    "  the data.\n",
    "* **Simulate the data** many times using the null-world.\n",
    "* For each simulation **calculate the measure of interest**.  Call these the\n",
    "  **simulated measures**.\n",
    "* Use the **simulated measures** to build up the **sampling distribution**.\n",
    "* Compare the **observed measure** to the **sampling distribution**, to see\n",
    "  whether it represents a rare or common event, given the model.\n",
    "\n",
    "The **data** is — in the survey sample, there were 774 Remain voters and 541\n",
    "Leave voters.  In the UK population, 48.1% voted Remain — the value of\n",
    "`uk_prop_remain` above.\n",
    "\n",
    "Let's say our **measure of interest** is the proportion of Remain voters in the\n",
    "survey — `survey_prop_remain` above.\n",
    "\n",
    "Now, *describe* (in words) your null-world simple model.  Consider looking\n",
    "again at the inference page linked above, if you need more information."
   ]
  },
  {
   "cell_type": "markdown",
   "id": "6344b1e7",
   "metadata": {
    "manual_grade": true,
    "manual_problem_id": "null_world"
   },
   "source": [
    "*Write your answer here, replacing this text.*"
   ]
  },
  {
   "cell_type": "markdown",
   "id": "7fc6bc4c",
   "metadata": {},
   "source": [
    "The next step is to simulate one trial in this world.  Here is a cell for you\n",
    "to do that.  Set `simulated_prop_remain` to be a proportion of Remain voters from that simulated world."
   ]
  },
  {
   "cell_type": "code",
   "execution_count": 4,
   "id": "d0231151",
   "metadata": {
    "execution": {
     "iopub.execute_input": "2022-12-14T18:21:50.774871Z",
     "iopub.status.busy": "2022-12-14T18:21:50.774729Z",
     "iopub.status.idle": "2022-12-14T18:21:50.777957Z",
     "shell.execute_reply": "2022-12-14T18:21:50.777579Z"
    }
   },
   "outputs": [],
   "source": [
    "voters = rng.choice([1, 0], p=[uk_prop_remain, 1 - uk_prop_remain],\n",
    "                    size=survey_n_total)\n",
    "simulated_prop_remain = np.count_nonzero(voters) / survey_n_total\n",
    "# Show the result\n",
    "simulated_prop_remain"
   ]
  },
  {
   "cell_type": "code",
   "execution_count": 5,
   "id": "0b61eb8f",
   "metadata": {
    "execution": {
     "iopub.execute_input": "2022-12-14T18:21:50.779714Z",
     "iopub.status.busy": "2022-12-14T18:21:50.779596Z",
     "iopub.status.idle": "2022-12-14T18:21:50.791882Z",
     "shell.execute_reply": "2022-12-14T18:21:50.791531Z"
    }
   },
   "outputs": [],
   "source": [
    "_ = ok.grade('q_simulated_prop_remain')"
   ]
  },
  {
   "cell_type": "markdown",
   "id": "23744008",
   "metadata": {},
   "source": [
    "Now you have you worked out how to get your measure from one trial, run 10000\n",
    "trials, repeating this procedure, and storing the result in\n",
    "`simulated_props`."
   ]
  },
  {
   "cell_type": "code",
   "execution_count": 6,
   "id": "f7a4197c",
   "metadata": {
    "execution": {
     "iopub.execute_input": "2022-12-14T18:21:50.795540Z",
     "iopub.status.busy": "2022-12-14T18:21:50.795376Z",
     "iopub.status.idle": "2022-12-14T18:21:51.427846Z",
     "shell.execute_reply": "2022-12-14T18:21:51.427530Z"
    }
   },
   "outputs": [],
   "source": [
    "simulated_props = np.zeros(10000)\n",
    "\n",
    "for i in np.arange(10000):\n",
    "    voters = rng.choice([1, 0], p=[uk_prop_remain, 1 - uk_prop_remain],\n",
    "                        size=survey_n_total)\n",
    "    simulated_prop_remain = np.count_nonzero(voters) / survey_n_total\n",
    "    simulated_props[i] = simulated_prop_remain\n",
    "\n",
    "# Show the first 10 results of the simulation\n",
    "simulated_props[:10]"
   ]
  },
  {
   "cell_type": "code",
   "execution_count": 7,
   "id": "f989bc4c",
   "metadata": {
    "execution": {
     "iopub.execute_input": "2022-12-14T18:21:51.429643Z",
     "iopub.status.busy": "2022-12-14T18:21:51.429504Z",
     "iopub.status.idle": "2022-12-14T18:21:51.438417Z",
     "shell.execute_reply": "2022-12-14T18:21:51.438065Z"
    }
   },
   "outputs": [],
   "source": [
    "_ = ok.grade('q_simulated_props')"
   ]
  },
  {
   "cell_type": "markdown",
   "id": "754c7114",
   "metadata": {},
   "source": [
    "Finally, calculate the estimated p value (proportion) of simulated proportions which were greater than or equal to the observed proportion in the survey."
   ]
  },
  {
   "cell_type": "code",
   "execution_count": 8,
   "id": "b76c6eba",
   "metadata": {
    "execution": {
     "iopub.execute_input": "2022-12-14T18:21:51.442341Z",
     "iopub.status.busy": "2022-12-14T18:21:51.442197Z",
     "iopub.status.idle": "2022-12-14T18:21:51.444871Z",
     "shell.execute_reply": "2022-12-14T18:21:51.444546Z"
    }
   },
   "outputs": [],
   "source": [
    "estimated_p = np.count_nonzero(simulated_props >= survey_prop_remain) / 10000\n",
    "# Show the result\n",
    "estimated_p"
   ]
  },
  {
   "cell_type": "code",
   "execution_count": 9,
   "id": "41a35135",
   "metadata": {
    "execution": {
     "iopub.execute_input": "2022-12-14T18:21:51.447638Z",
     "iopub.status.busy": "2022-12-14T18:21:51.447494Z",
     "iopub.status.idle": "2022-12-14T18:21:51.455895Z",
     "shell.execute_reply": "2022-12-14T18:21:51.455548Z"
    }
   },
   "outputs": [],
   "source": [
    "_ = ok.grade('q_estimated_p')"
   ]
  },
  {
   "cell_type": "markdown",
   "id": "fe26e6b6",
   "metadata": {},
   "source": [
    "Now the data is in, give a convincing reply to the survey company, as to whether the difference in proportions is really explicable by sampling error."
   ]
  },
  {
   "cell_type": "markdown",
   "id": "def7b710",
   "metadata": {
    "lines_to_next_cell": 2,
    "manual_grade": true,
    "manual_problem_id": "reply_to_survey"
   },
   "source": [
    "*Write your answer here, replacing this text.*"
   ]
  },
  {
   "cell_type": "markdown",
   "id": "ccd0dab0",
   "metadata": {},
   "source": [
    "## Done.\n",
    "\n",
    "Congratulations, you're done with the assignment!  Be sure to:\n",
    "\n",
    "- **run all the tests** (the next cell has a shortcut for that).\n",
    "- **Save and Checkpoint** from the `File` menu."
   ]
  },
  {
   "cell_type": "code",
   "execution_count": 10,
   "id": "e0b1878e",
   "metadata": {
    "execution": {
     "iopub.execute_input": "2022-12-14T18:21:51.459821Z",
     "iopub.status.busy": "2022-12-14T18:21:51.459686Z",
     "iopub.status.idle": "2022-12-14T18:21:51.481879Z",
     "shell.execute_reply": "2022-12-14T18:21:51.481507Z"
    }
   },
   "outputs": [],
   "source": [
    "# For your convenience, you can run this cell to run all the tests at once!\n",
    "import os\n",
    "_ = [ok.grade(q[:-3]) for q in os.listdir(\"tests\") if q.startswith('q')]"
   ]
  }
 ],
 "metadata": {
  "jupytext": {
   "cell_metadata_json": true,
   "notebook_metadata_filter": "all,-language_info",
   "split_at_heading": true,
   "text_representation": {
    "extension": ".Rmd",
    "format_name": "rmarkdown",
    "format_version": "1.2",
    "jupytext_version": "1.14.1"
   }
  },
  "kernelspec": {
   "display_name": "Python 3 (ipykernel)",
   "language": "python",
   "name": "python3"
  },
  "language_info": {
   "codemirror_mode": {
    "name": "ipython",
    "version": 3
   },
   "file_extension": ".py",
   "mimetype": "text/x-python",
   "name": "python",
   "nbconvert_exporter": "python",
   "pygments_lexer": "ipython3",
   "version": "3.10.7"
  }
 },
 "nbformat": 4,
 "nbformat_minor": 5
}
