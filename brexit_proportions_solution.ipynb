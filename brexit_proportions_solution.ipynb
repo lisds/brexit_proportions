{
 "cells": [
  {
   "cell_type": "markdown",
   "id": "f2e09aef",
   "metadata": {},
   "source": [
    "# Brexit proportions"
   ]
  },
  {
   "cell_type": "markdown",
   "id": "7493d0ac",
   "metadata": {},
   "source": [
    "## Preliminaries"
   ]
  },
  {
   "cell_type": "code",
   "execution_count": 1,
   "id": "c31716ef",
   "metadata": {
    "execution": {
     "iopub.execute_input": "2022-12-14T19:30:59.211052Z",
     "iopub.status.busy": "2022-12-14T19:30:59.210621Z",
     "iopub.status.idle": "2022-12-14T19:30:59.631440Z",
     "shell.execute_reply": "2022-12-14T19:30:59.631002Z"
    }
   },
   "outputs": [],
   "source": [
    "# Don't change this cell; just run it.\n",
    "import numpy as np  # The array library.\n",
    "\n",
    "# The random number generator\n",
    "rng = np.random.default_rng()\n",
    "\n",
    "# Plotting\n",
    "import matplotlib.pyplot as plt\n",
    "\n",
    "# Fancy plots\n",
    "plt.style.use('fivethirtyeight')\n",
    "\n",
    "# The OKpy testing system.\n",
    "from client.api.notebook import Notebook\n",
    "ok = Notebook('brexit_proportions.ok')"
   ]
  },
  {
   "cell_type": "markdown",
   "id": "cd1fc894",
   "metadata": {},
   "source": [
    "## The survey company makes its case\n",
    "\n",
    "Remember the [Brexit referendum](https://lisds.github.io/textbook/permutation/population_permutation)?\n",
    "\n",
    "In that page, we found that the survey company working for Hansard ended up\n",
    "with 774 respondents who said they voted Remain, and 541 who said they voted\n",
    "Leave.  In terms of proportions of Remain voters in the survey, that is:"
   ]
  },
  {
   "cell_type": "code",
   "execution_count": 2,
   "id": "942da948",
   "metadata": {
    "execution": {
     "iopub.execute_input": "2022-12-14T19:30:59.633841Z",
     "iopub.status.busy": "2022-12-14T19:30:59.633610Z",
     "iopub.status.idle": "2022-12-14T19:30:59.639480Z",
     "shell.execute_reply": "2022-12-14T19:30:59.639145Z"
    }
   },
   "outputs": [],
   "source": [
    "survey_n_remain = 774\n",
    "survey_n_leave = 541\n",
    "survey_n_total = survey_n_remain + survey_n_leave\n",
    "survey_prop_remain = survey_n_remain / survey_n_total\n",
    "survey_prop_remain"
   ]
  },
  {
   "cell_type": "markdown",
   "id": "6c3fc9e7",
   "metadata": {},
   "source": [
    "It is odd that the survey company found more Remain than Leave voters, given\n",
    "that the [final UK-wide\n",
    "result](https://www.electoralcommission.org.uk/who-we-are-and-what-we-do/elections-and-referendums/past-elections-and-referendums/eu-referendum/results-and-turnout-eu-referendum)\n",
    "of the referendum was 16,141,241 voting Remain and 17,410,742 voting Leave.\n",
    "This gives a final UK-wide proportion of remain votes, to all votes cast,\n",
    "of:"
   ]
  },
  {
   "cell_type": "code",
   "execution_count": 3,
   "id": "00b82dba",
   "metadata": {
    "execution": {
     "iopub.execute_input": "2022-12-14T19:30:59.641446Z",
     "iopub.status.busy": "2022-12-14T19:30:59.641294Z",
     "iopub.status.idle": "2022-12-14T19:30:59.643975Z",
     "shell.execute_reply": "2022-12-14T19:30:59.643660Z"
    }
   },
   "outputs": [],
   "source": [
    "uk_n_remain = 16141241\n",
    "uk_n_leave = 17410742\n",
    "uk_n_total = uk_n_remain + uk_n_leave\n",
    "uk_prop_remain = uk_n_remain / uk_n_total\n",
    "uk_prop_remain"
   ]
  },
  {
   "cell_type": "markdown",
   "id": "56d815ea",
   "metadata": {},
   "source": [
    "Let's say you are Hansard, and the survey company has given you the data.   You tell them:\n",
    "\n",
    "> I'm worried that your survey may be not be representative of the voting\n",
    "> population, because your survey has 58.9% Remain voters, but the UK had 48.1%\n",
    "> of Remain voters.\n",
    "\n",
    "And they reply:\n",
    "\n",
    "> Oh, that's just sampling error.\n",
    "\n",
    "Explain what the survey company means, when they say \"that's just\n",
    "sampling error\"."
   ]
  },
  {
   "cell_type": "markdown",
   "id": "4b74bff7",
   "metadata": {
    "manual_grade": true,
    "manual_problem_id": "sampling_error"
   },
   "source": [
    "*Write your answer here, replacing this text.*"
   ]
  },
  {
   "cell_type": "markdown",
   "id": "5e21e101",
   "metadata": {},
   "source": [
    "## Reply to the survey company\n",
    "\n",
    "Now you know about sampling error, you can reply to the survey company.\n",
    "\n",
    "We can reply by following the recipe in the [inference page](https://lisds.github.io/textbook/iteration/inference).\n",
    "\n",
    "Here are the steps from that page.\n",
    "\n",
    "* find the **data**.\n",
    "* Calculate some **measure of interest** from the data.\n",
    "* Make a simple (null-world) model of the world to offer as an explanation of\n",
    "  the data.\n",
    "* **Simulate the data** many times using the null-world.\n",
    "* For each simulation **calculate the measure of interest**.  Call these the\n",
    "  **simulated measures**.\n",
    "* Use the **simulated measures** to build up the **sampling distribution**.\n",
    "* Compare the **observed measure** to the **sampling distribution**, to see\n",
    "  whether it represents a rare or common event, given the model.\n",
    "\n",
    "The **data** is — in the survey sample, there were 774 Remain voters and 541\n",
    "Leave voters.  In the UK population, 48.1% voted Remain — the value of\n",
    "`uk_prop_remain` above.\n",
    "\n",
    "Let's say our **measure of interest** is the proportion of Remain voters in the\n",
    "survey — `survey_prop_remain` above.\n",
    "\n",
    "Now, *describe* (in words) your null-world simple model.  Consider looking\n",
    "again at the inference page linked above, if you need more information."
   ]
  },
  {
   "cell_type": "markdown",
   "id": "1228c2bd",
   "metadata": {
    "manual_grade": true,
    "manual_problem_id": "null_world"
   },
   "source": [
    "*Write your answer here, replacing this text.*"
   ]
  },
  {
   "cell_type": "markdown",
   "id": "61894356",
   "metadata": {},
   "source": [
    "The next step is to simulate one trial in this world.  Here is a cell for you\n",
    "to do that.  Set `simulated_prop_remain` to be a proportion of Remain voters from that simulated world."
   ]
  },
  {
   "cell_type": "code",
   "execution_count": 4,
   "id": "9d35df53",
   "metadata": {
    "execution": {
     "iopub.execute_input": "2022-12-14T19:30:59.646262Z",
     "iopub.status.busy": "2022-12-14T19:30:59.646114Z",
     "iopub.status.idle": "2022-12-14T19:30:59.649423Z",
     "shell.execute_reply": "2022-12-14T19:30:59.649081Z"
    }
   },
   "outputs": [],
   "source": [
    "voters = rng.choice([1, 0], p=[uk_prop_remain, 1 - uk_prop_remain],\n",
    "                    size=survey_n_total)\n",
    "simulated_prop_remain = np.count_nonzero(voters) / survey_n_total\n",
    "# Show the result\n",
    "simulated_prop_remain"
   ]
  },
  {
   "cell_type": "code",
   "execution_count": 5,
   "id": "ce6a6254",
   "metadata": {
    "execution": {
     "iopub.execute_input": "2022-12-14T19:30:59.651255Z",
     "iopub.status.busy": "2022-12-14T19:30:59.651113Z",
     "iopub.status.idle": "2022-12-14T19:30:59.663282Z",
     "shell.execute_reply": "2022-12-14T19:30:59.662926Z"
    }
   },
   "outputs": [],
   "source": [
    "_ = ok.grade('q_simulated_prop_remain')"
   ]
  },
  {
   "cell_type": "markdown",
   "id": "b65bf83c",
   "metadata": {},
   "source": [
    "Now you have you worked out how to get your measure from one trial, run 10000\n",
    "trials, repeating this procedure, and storing the result in\n",
    "`simulated_props`."
   ]
  },
  {
   "cell_type": "code",
   "execution_count": 6,
   "id": "28b8bb26",
   "metadata": {
    "execution": {
     "iopub.execute_input": "2022-12-14T19:30:59.667163Z",
     "iopub.status.busy": "2022-12-14T19:30:59.667020Z",
     "iopub.status.idle": "2022-12-14T19:31:00.300088Z",
     "shell.execute_reply": "2022-12-14T19:31:00.299705Z"
    }
   },
   "outputs": [],
   "source": [
    "simulated_props = np.zeros(10000)\n",
    "\n",
    "for i in np.arange(10000):\n",
    "    voters = rng.choice([1, 0], p=[uk_prop_remain, 1 - uk_prop_remain],\n",
    "                        size=survey_n_total)\n",
    "    simulated_prop_remain = np.count_nonzero(voters) / survey_n_total\n",
    "    simulated_props[i] = simulated_prop_remain\n",
    "\n",
    "# Show the first 10 results of the simulation\n",
    "simulated_props[:10]"
   ]
  },
  {
   "cell_type": "code",
   "execution_count": 7,
   "id": "e6d7179d",
   "metadata": {
    "execution": {
     "iopub.execute_input": "2022-12-14T19:31:00.302200Z",
     "iopub.status.busy": "2022-12-14T19:31:00.302039Z",
     "iopub.status.idle": "2022-12-14T19:31:00.311843Z",
     "shell.execute_reply": "2022-12-14T19:31:00.311455Z"
    }
   },
   "outputs": [],
   "source": [
    "_ = ok.grade('q_simulated_props')"
   ]
  },
  {
   "cell_type": "markdown",
   "id": "502445ad",
   "metadata": {},
   "source": [
    "At this stage, you may want to have a look at the histogram of the 10000\n",
    "`simulated_props`:"
   ]
  },
  {
   "cell_type": "code",
   "execution_count": 8,
   "id": "1395268f",
   "metadata": {
    "execution": {
     "iopub.execute_input": "2022-12-14T19:31:00.315823Z",
     "iopub.status.busy": "2022-12-14T19:31:00.315681Z",
     "iopub.status.idle": "2022-12-14T19:31:00.428158Z",
     "shell.execute_reply": "2022-12-14T19:31:00.427698Z"
    }
   },
   "outputs": [],
   "source": [
    "# Run this cell.\n",
    "plt.hist(simulated_props, bins=20);"
   ]
  },
  {
   "cell_type": "markdown",
   "id": "1987e990",
   "metadata": {},
   "source": [
    "Finally, calculate the estimated p value (proportion) of simulated proportions which were greater than or equal to the observed proportion in the survey."
   ]
  },
  {
   "cell_type": "code",
   "execution_count": 9,
   "id": "fe5e9e73",
   "metadata": {
    "execution": {
     "iopub.execute_input": "2022-12-14T19:31:00.431231Z",
     "iopub.status.busy": "2022-12-14T19:31:00.430992Z",
     "iopub.status.idle": "2022-12-14T19:31:00.433941Z",
     "shell.execute_reply": "2022-12-14T19:31:00.433595Z"
    }
   },
   "outputs": [],
   "source": [
    "estimated_p = np.count_nonzero(simulated_props >= survey_prop_remain) / 10000\n",
    "# Show the result\n",
    "estimated_p"
   ]
  },
  {
   "cell_type": "code",
   "execution_count": 10,
   "id": "358fefa6",
   "metadata": {
    "execution": {
     "iopub.execute_input": "2022-12-14T19:31:00.435866Z",
     "iopub.status.busy": "2022-12-14T19:31:00.435719Z",
     "iopub.status.idle": "2022-12-14T19:31:00.445245Z",
     "shell.execute_reply": "2022-12-14T19:31:00.444833Z"
    }
   },
   "outputs": [],
   "source": [
    "_ = ok.grade('q_estimated_p')"
   ]
  },
  {
   "cell_type": "markdown",
   "id": "0e548211",
   "metadata": {},
   "source": [
    "Now the data is in, give a convincing reply to the survey company, as to whether the difference in proportions is really explicable by sampling error."
   ]
  },
  {
   "cell_type": "markdown",
   "id": "fb81fc22",
   "metadata": {
    "lines_to_next_cell": 2,
    "manual_grade": true,
    "manual_problem_id": "reply_to_survey"
   },
   "source": [
    "*Write your answer here, replacing this text.*"
   ]
  },
  {
   "cell_type": "markdown",
   "id": "efad529e",
   "metadata": {},
   "source": [
    "## Done.\n",
    "\n",
    "Congratulations, you're done with the assignment!  Be sure to:\n",
    "\n",
    "- **run all the tests** (the next cell has a shortcut for that).\n",
    "- **Save and Checkpoint** from the `File` menu."
   ]
  },
  {
   "cell_type": "code",
   "execution_count": 11,
   "id": "6d11ebd1",
   "metadata": {
    "execution": {
     "iopub.execute_input": "2022-12-14T19:31:00.449162Z",
     "iopub.status.busy": "2022-12-14T19:31:00.449011Z",
     "iopub.status.idle": "2022-12-14T19:31:00.472553Z",
     "shell.execute_reply": "2022-12-14T19:31:00.472179Z"
    }
   },
   "outputs": [],
   "source": [
    "# For your convenience, you can run this cell to run all the tests at once!\n",
    "import os\n",
    "_ = [ok.grade(q[:-3]) for q in os.listdir(\"tests\") if q.startswith('q')]"
   ]
  }
 ],
 "metadata": {
  "jupytext": {
   "cell_metadata_json": true,
   "notebook_metadata_filter": "all,-language_info",
   "split_at_heading": true,
   "text_representation": {
    "extension": ".Rmd",
    "format_name": "rmarkdown",
    "format_version": "1.2",
    "jupytext_version": "1.14.1"
   }
  },
  "kernelspec": {
   "display_name": "Python 3 (ipykernel)",
   "language": "python",
   "name": "python3"
  },
  "language_info": {
   "codemirror_mode": {
    "name": "ipython",
    "version": 3
   },
   "file_extension": ".py",
   "mimetype": "text/x-python",
   "name": "python",
   "nbconvert_exporter": "python",
   "pygments_lexer": "ipython3",
   "version": "3.10.7"
  }
 },
 "nbformat": 4,
 "nbformat_minor": 5
}
